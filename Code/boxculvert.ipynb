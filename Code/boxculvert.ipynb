{
 "cells": [
  {
   "cell_type": "code",
   "execution_count": 39,
   "id": "b37bbbf1-188c-4dc2-962c-f3869af8577d",
   "metadata": {},
   "outputs": [],
   "source": [
    "import pandas as pd \n",
    "import forallpeople as fp\n",
    "fp.environment('structural', top_level= True)\n",
    "import handcalcs.render"
   ]
  },
  {
   "cell_type": "markdown",
   "id": "4d0121a4-07af-44b4-96c1-e3c7ef53f9ca",
   "metadata": {},
   "source": [
    "<!DOCTYPE html>\n",
    "<html>\n",
    "<body>\n",
    "\n",
    "<h2 style=\";font-family:'Cambria';\">\n",
    "    <font size=\"+3\">1. Datos de Disen&#771;o</font>\n",
    "    \n",
    "</h2>\n",
    "\n",
    "<p style=\"font-family:'Cambria';font-size:20px\">\n",
    "    A continuación se presentan los datos entregados por el cliente, para el diseño de un Boxculvert:\n",
    "    \n",
    "</p>\n",
    "<p style=\"font-family:'Cambria';font-size:10px\"> \n",
    "    <font size=\"+2\">1.1 Datos del terreno</font>\n",
    "</p>\n",
    "<p style=\"font-family:'Cambria';font-size:20px\">   </p>\n",
    "\n",
    "\n",
    "</body>\n",
    "</html>"
   ]
  },
  {
   "cell_type": "code",
   "execution_count": 40,
   "id": "831a86d7-a3d8-439c-a1fd-4037e731e713",
   "metadata": {},
   "outputs": [
    {
     "data": {
      "text/latex": [
       "\\[\n",
       "\\begin{aligned}\n",
       "\\mathrm{Hrelleno} &= 1.50\\ \\mathrm{m} \\; \\;\\textrm{(Altura de relleno)}\n",
       "\\end{aligned}\n",
       "\\]"
      ],
      "text/plain": [
       "<IPython.core.display.Latex object>"
      ]
     },
     "metadata": {},
     "output_type": "display_data"
    }
   ],
   "source": [
    "%%render 2 \n",
    "Hrelleno = (1.5*m) # Altura de relleno"
   ]
  },
  {
   "cell_type": "code",
   "execution_count": 41,
   "id": "beb1da59-88cb-4da2-83b1-6de018632628",
   "metadata": {},
   "outputs": [
    {
     "data": {
      "text/latex": [
       "\\[\n",
       "\\begin{aligned}\n",
       "\\gamma &= 18.00\\ \\mathrm{kN/m³} \\; \\;\\textrm{(Peso especifico)}\n",
       "\\\\[10pt]\n",
       "\\Phi &= 28 \\; \\;\\textrm{(Ángulo de fricción)}\n",
       "\\end{aligned}\n",
       "\\]"
      ],
      "text/plain": [
       "<IPython.core.display.Latex object>"
      ]
     },
     "metadata": {},
     "output_type": "display_data"
    }
   ],
   "source": [
    "%%render 2\n",
    "gamma = (18*kN/m**3) #Peso especifico\n",
    "Phi = (28) #Ángulo de fricción\n"
   ]
  },
  {
   "cell_type": "code",
   "execution_count": 42,
   "id": "1b29d347-3c1b-4761-a563-9b9547faec96",
   "metadata": {},
   "outputs": [
    {
     "data": {
      "text/latex": [
       "\\[\n",
       "\\begin{aligned}\n",
       "\\sigma_{adm} &= 150.00\\ \\mathrm{kPa} \\; \\;\\textrm{(Esfuerzo admisible)}\n",
       "\\end{aligned}\n",
       "\\]"
      ],
      "text/plain": [
       "<IPython.core.display.Latex object>"
      ]
     },
     "metadata": {},
     "output_type": "display_data"
    }
   ],
   "source": [
    "%%render 2\n",
    "sigma_adm = (150*kN/m**2) # Esfuerzo admisible"
   ]
  },
  {
   "cell_type": "code",
   "execution_count": 43,
   "id": "ed4c6812-0877-47d6-bbb8-35168be4cb88",
   "metadata": {},
   "outputs": [
    {
     "data": {
      "text/latex": [
       "\\[\n",
       "\\begin{aligned}\n",
       "\\mathrm{kb} &= 34.50\\ \\mathrm{MN/m³} \\;\n",
       "\\end{aligned}\n",
       "\\]"
      ],
      "text/plain": [
       "<IPython.core.display.Latex object>"
      ]
     },
     "metadata": {},
     "output_type": "display_data"
    }
   ],
   "source": [
    "%%render 2 params\n",
    "kb = 34500*kN/m**3"
   ]
  },
  {
   "cell_type": "markdown",
   "id": "677d09a9-eb0d-4123-92c0-42f773e37874",
   "metadata": {},
   "source": [
    "<p style=\"font-family:'Cambria';font-size:10px\"> \n",
    "    <font size=\"+2\">1.2 Datos de la geometría</font>\n",
    "</p>"
   ]
  },
  {
   "cell_type": "code",
   "execution_count": 44,
   "id": "ff8ed5eb-9a5e-461d-8cb3-c57cf929a677",
   "metadata": {},
   "outputs": [
    {
     "data": {
      "text/latex": [
       "\\[\n",
       "\\begin{aligned}\n",
       "B &= 4.00\\ \\mathrm{m} \\; \n",
       "\\\\[10pt]\n",
       "H &= 3.00\\ \\mathrm{m} \\; \n",
       "\\end{aligned}\n",
       "\\]"
      ],
      "text/plain": [
       "<IPython.core.display.Latex object>"
      ]
     },
     "metadata": {},
     "output_type": "display_data"
    }
   ],
   "source": [
    "%%render 2 long\n",
    "B = (4*m)\n",
    "H = (3*m)\n"
   ]
  },
  {
   "cell_type": "code",
   "execution_count": 45,
   "id": "b99cdfbc-9eba-46da-8d31-3edf0ddd3102",
   "metadata": {},
   "outputs": [
    {
     "data": {
      "text/latex": [
       "\\[\n",
       "\\begin{aligned}\n",
       "\\mathrm{celdas} &= 2 \\;\n",
       "\\end{aligned}\n",
       "\\]"
      ],
      "text/plain": [
       "<IPython.core.display.Latex object>"
      ]
     },
     "metadata": {},
     "output_type": "display_data"
    }
   ],
   "source": [
    "%%render 2 params\n",
    "celdas = 2"
   ]
  },
  {
   "cell_type": "code",
   "execution_count": null,
   "id": "a3f3a3f5-5d8e-4f21-826e-41c017410caa",
   "metadata": {},
   "outputs": [],
   "source": []
  }
 ],
 "metadata": {
  "kernelspec": {
   "display_name": "Python 3 (ipykernel)",
   "language": "python",
   "name": "python3"
  },
  "language_info": {
   "codemirror_mode": {
    "name": "ipython",
    "version": 3
   },
   "file_extension": ".py",
   "mimetype": "text/x-python",
   "name": "python",
   "nbconvert_exporter": "python",
   "pygments_lexer": "ipython3",
   "version": "3.10.5"
  }
 },
 "nbformat": 4,
 "nbformat_minor": 5
}
