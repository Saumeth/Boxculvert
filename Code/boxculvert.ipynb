{
 "cells": [
  {
   "cell_type": "code",
   "execution_count": 9,
   "id": "b37bbbf1-188c-4dc2-962c-f3869af8577d",
   "metadata": {},
   "outputs": [],
   "source": [
    "import pandas as pd \n",
    "import forallpeople as fp\n",
    "fp.environment('structural', top_level= True)\n",
    "import handcalcs.render"
   ]
  },
  {
   "cell_type": "code",
   "execution_count": null,
   "id": "68a46e10-e18b-44ed-91fd-4db154e0fc97",
   "metadata": {},
   "outputs": [],
   "source": []
  }
 ],
 "metadata": {
  "kernelspec": {
   "display_name": "Python 3 (ipykernel)",
   "language": "python",
   "name": "python3"
  },
  "language_info": {
   "codemirror_mode": {
    "name": "ipython",
    "version": 3
   },
   "file_extension": ".py",
   "mimetype": "text/x-python",
   "name": "python",
   "nbconvert_exporter": "python",
   "pygments_lexer": "ipython3",
   "version": "3.10.5"
  }
 },
 "nbformat": 4,
 "nbformat_minor": 5
}
